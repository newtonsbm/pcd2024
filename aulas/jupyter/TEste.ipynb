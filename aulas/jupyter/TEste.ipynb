{
 "cells": [
  {
   "cell_type": "code",
   "execution_count": null,
   "id": "bcaba101-ed9f-406a-8723-6d31b1afa803",
   "metadata": {},
   "outputs": [],
   "source": [
    "print('blabla')"
   ]
  },
  {
   "cell_type": "code",
   "execution_count": null,
   "id": "76d343ea-f0f1-4328-8ab9-051d4190888c",
   "metadata": {},
   "outputs": [],
   "source": []
  }
 ],
 "metadata": {
  "kernelspec": {
   "display_name": "Python 3 (ipykernel)",
   "language": "python",
   "name": "python3"
  },
  "language_info": {
   "codemirror_mode": {
    "name": "ipython",
    "version": 3
   },
   "file_extension": ".py",
   "mimetype": "text/x-python",
   "name": "python",
   "nbconvert_exporter": "python",
   "pygments_lexer": "ipython3",
   "version": "3.11.6"
  }
 },
 "nbformat": 4,
 "nbformat_minor": 5
}
